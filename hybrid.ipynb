{
 "cells": [
  {
   "cell_type": "markdown",
   "id": "91af46a3-f08a-4c7a-a0ed-e4f07b61bb3e",
   "metadata": {},
   "source": [
    "# Hybrid Model\n",
    "Raw Sensor -> Classification\n",
    "\n",
    "- fine-tune\n",
    "冻结classification weights, 然后fine-tune regression model."
   ]
  },
  {
   "cell_type": "code",
   "execution_count": null,
   "id": "d86bb99f-aae7-4c5f-a8ab-7010c356766b",
   "metadata": {},
   "outputs": [],
   "source": []
  }
 ],
 "metadata": {
  "kernelspec": {
   "display_name": "Python 3",
   "language": "python",
   "name": "python3"
  },
  "language_info": {
   "codemirror_mode": {
    "name": "ipython",
    "version": 3
   },
   "file_extension": ".py",
   "mimetype": "text/x-python",
   "name": "python",
   "nbconvert_exporter": "python",
   "pygments_lexer": "ipython3",
   "version": "3.8.3"
  }
 },
 "nbformat": 4,
 "nbformat_minor": 5
}
