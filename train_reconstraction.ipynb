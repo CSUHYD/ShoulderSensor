{
 "cells": [
  {
   "cell_type": "code",
   "execution_count": 7,
   "id": "1f27e681-fb89-432f-9fff-b58790722037",
   "metadata": {},
   "outputs": [],
   "source": [
    "import os\n",
    "import json\n",
    "import torch\n",
    "import random\n",
    "import numpy as np\n",
    "from pathlib import Path\n",
    "from torch.utils.data import Dataset\n",
    "from torch.nn.utils.rnn import pad_sequence\n",
    "from sklearn.preprocessing import StandardScaler\n",
    "from utils import savgol\n",
    "\n",
    "label_names = ['AA_SN_X', 'AA_SN_Y', 'AA_SN_Z', 'GH_AA_X', 'GH_AA_Y', 'GH_AA_Z']\n",
    "\n",
    "\n",
    "class Sensor2AngleDataset(Dataset):\n",
    "    def __init__(self, dataDir, segment_len=128):\n",
    "        self.dataDir = dataDir\n",
    "        self.segment_len = segment_len\n",
    "        self.data = self.load_data(dataDir)\n",
    "        \n",
    "        \n",
    "    def __len__(self):\n",
    "        return len(self.data)\n",
    "    \n",
    "    \n",
    "    def __getitem__(self, index):\n",
    "        pass\n",
    "    \n",
    "    \n",
    "    def load_data(self, dataDir, doStandardize=True, doFilter=True):\n",
    "        sensorPath = Path(dataDir) / \"sensor.npy\"\n",
    "        anglePath = Path(dataDir) / \"angle.npy\"\n",
    "        with open(sensorPath, 'rb') as f:\n",
    "            sensorAll = np.load(f)\n",
    "        with open(anglePath, 'rb') as f:\n",
    "            angleAll = np.load(f)\n",
    "        assert sensorAll.shape[0] == angleAll.shape[0]\n",
    "        if doStandardize:\n",
    "            sensorAll = self.standardize_sensor(sensorAll)\n",
    "        if doFilter:\n",
    "            sensorAll, angleAll = self.filter_sensor_and_angle(sensorAll, angleAll)\n",
    "        datasetList = []\n",
    "        for sensorSample, angleSample in zip(sensorAll, angleAll):\n",
    "            datasetList.append([sensorSample, angleSample])\n",
    "        \n",
    "        return datasetList\n",
    "    \n",
    "    \n",
    "    def standardize_sensor(self, sensorAll):\n",
    "        scalerStd = StandardScaler()\n",
    "        sensorStd = scalerStd.fit_transform(sensorAll)\n",
    "        \n",
    "        return sensorStd\n",
    "\n",
    "    \n",
    "    def filter_sensor_and_angle(self, sensorAll, angleAll, do_plot=False):\n",
    "        for i in range(sensorAll.shape[1]):\n",
    "            title = f'sensor_{i}'\n",
    "            sensorAll[:,i] = savgol(sensorAll[:,i], 51, 2, title=title, do_plot=do_plot)\n",
    "        angleFlt = []\n",
    "        for i in range(angleAll.shape[1]):\n",
    "            title = label_names[i]\n",
    "            angleAll[:,i] = savgol(angleAll[:,i], 51, 2, title=title, do_plot=do_plot)\n",
    "            \n",
    "        return sensorAll, angleAll"
   ]
  },
  {
   "cell_type": "code",
   "execution_count": 8,
   "id": "14f13f6e-c139-4813-911e-e862beee6704",
   "metadata": {},
   "outputs": [],
   "source": [
    "dataset = Sensor2AngleDataset(dataDir='./data')"
   ]
  },
  {
   "cell_type": "code",
   "execution_count": null,
   "id": "f78cfac9-54da-4ef4-a1af-0da6461b61ce",
   "metadata": {},
   "outputs": [],
   "source": []
  }
 ],
 "metadata": {
  "kernelspec": {
   "display_name": "Python 3",
   "language": "python",
   "name": "python3"
  },
  "language_info": {
   "codemirror_mode": {
    "name": "ipython",
    "version": 3
   },
   "file_extension": ".py",
   "mimetype": "text/x-python",
   "name": "python",
   "nbconvert_exporter": "python",
   "pygments_lexer": "ipython3",
   "version": "3.8.3"
  }
 },
 "nbformat": 4,
 "nbformat_minor": 5
}
