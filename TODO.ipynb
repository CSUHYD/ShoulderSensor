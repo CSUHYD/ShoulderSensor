{
 "cells": [
  {
   "cell_type": "markdown",
   "id": "6ed22b17-abd7-408a-b625-26b241c6f6b7",
   "metadata": {},
   "source": [
    "# TODO\n",
    "\n",
    "总方向：增加有效数据，减少噪声\n",
    "- 先分类再回归\n",
    "- 处理衰落问题\n",
    "    - 瑞利分布\n",
    "    - STL decomposition\n",
    "\n",
    "## pre-processing：\n",
    "- 校准传感器数据/光捕数据时间偏移\n",
    "- 窗口大小：可以用未来数据，但是会造成延迟\n",
    "\n",
    "## model：\n",
    "- lstm + depth-wise attention\n",
    "    - sequence-wise attention 考虑窗口内传感器数值信息\n",
    "    - depth-wise attention 考虑传感器之间的相对关系\n",
    "    - 最后一层的输入，可以是sensor depth-wise feature concatenated raw sensor ?\n",
    "    - Dropout （In order to prevent the overﬁtting, we used dropout [24] in the ﬁrst layer of the GRU with the dropout rate of 0.5.）\n",
    "    - LayerNorm 好处是避免序列长度不一致，inference均值方差会对结果造成扰动\n",
    "        - https://www.bilibili.com/video/BV1pu411o7BE?from=search&seid=2721880930873544622&spm_id_from=333.337.0.0\n",
    "- Loss设计\n",
    "    - 加入正则项\n",
    "    - 计算dataset的抖动程度，可以用方差？\n",
    "    - Metric: (模型抖动 - dataset抖动) / dataset抖动\n",
    "\n",
    "## inference：\n",
    "- 排除不稳定的因素\n",
    "    - 调整间隔。按顺序inference，跳过已经参与inference的sensor, Train的时候也一样，平均窗口内的角度生成label\n",
    "    - 卡尔曼滤波？\n",
    "    - 投影到某个高维空间再滤波？\n",
    "    \n",
    "## GUI\n",
    "- 实时预测曲线\n",
    "- Map angle results into Unity\n",
    "  \n",
    "## future work：\n",
    "- 验证最少传感器个数\n",
    "    - Sensor相关性分析\n",
    "- 能否直接学出有代偿的波形特征\n",
    "- fading是否和运动速度相关？如果是，能否从fading得出运动速度？"
   ]
  },
  {
   "cell_type": "code",
   "execution_count": null,
   "id": "47a451bd-dc62-4b1d-b693-db2d462cdd24",
   "metadata": {},
   "outputs": [],
   "source": []
  }
 ],
 "metadata": {
  "kernelspec": {
   "display_name": "Python 3",
   "language": "python",
   "name": "python3"
  },
  "language_info": {
   "codemirror_mode": {
    "name": "ipython",
    "version": 3
   },
   "file_extension": ".py",
   "mimetype": "text/x-python",
   "name": "python",
   "nbconvert_exporter": "python",
   "pygments_lexer": "ipython3",
   "version": "3.8.3"
  }
 },
 "nbformat": 4,
 "nbformat_minor": 5
}
