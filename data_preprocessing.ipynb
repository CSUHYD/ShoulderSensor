{
 "cells": [
  {
   "cell_type": "markdown",
   "id": "0e2aef0d-c8ea-4ec9-82f8-b11839454b04",
   "metadata": {},
   "source": [
    "# 数据预处理\n",
    "\n",
    "### 数据对齐\n"
   ]
  },
  {
   "cell_type": "code",
   "execution_count": 1,
   "id": "3868c3b9-3fe9-40c7-9dba-d0fb683805c6",
   "metadata": {},
   "outputs": [],
   "source": [
    "import pandas as pd\n",
    "import numpy as np\n",
    "import re\n",
    "import glob\n",
    "import os\n",
    "import time\n",
    "from copy import deepcopy\n",
    "from tqdm import tqdm\n",
    "from datetime import datetime, timedelta\n",
    "from angle_calculator import angle_cal_frame"
   ]
  },
  {
   "cell_type": "code",
   "execution_count": 2,
   "id": "96dff3d3-7e8e-47b2-8f87-970c586466fb",
   "metadata": {},
   "outputs": [],
   "source": [
    "# 判断时间 n_time 是否在范围时间 [time1, time2] 内\n",
    "def time_in_period(time1, time2, n_time):\n",
    "    return (n_time > time1 and n_time < time2)\n",
    "\n",
    "def get_start_time(optical_data):\n",
    "    start_time = datetime.strptime(optical_data.iloc[0,0], '%Y-%m-%d %I.%M.%S %p')\n",
    "    return start_time"
   ]
  },
  {
   "cell_type": "markdown",
   "id": "7a198b26-67d8-49b3-8cd7-5416d87fafaa",
   "metadata": {},
   "source": [
    "### sensor_data 写入时间戳"
   ]
  },
  {
   "cell_type": "code",
   "execution_count": 3,
   "id": "395f00ad-ba36-4916-9c77-ec2087a8e8c9",
   "metadata": {
    "tags": []
   },
   "outputs": [],
   "source": [
    "def sensor_data_processing(sensor_data):\n",
    "    timestamp = dict()\n",
    "    key = list()\n",
    "    sensor_data_list = sensor_data.values.tolist()\n",
    "    num_sensor_data = len(sensor_data_list)\n",
    "    \n",
    "    # 提取中括号中的时间\n",
    "    re_midbkt = re.compile('\\[(.*?)\\]', re.S)\n",
    "    for i, data in enumerate(sensor_data_list):\n",
    "        if sensor_data_list[i][0].split(' ')[0][0] == '[':\n",
    "            t = sensor_data_list[i][0].split(' ')[0]\n",
    "            timestamp[i] = re.findall(re_midbkt, t)[0]\n",
    "            timestamp[i] = datetime.strptime(timestamp[i], '%H:%M:%S.%f')\n",
    "            # 时间对齐\n",
    "            delta = timedelta(minutes=23, seconds=45)\n",
    "            timestamp[i] = timestamp[i] + delta\n",
    "            timestamp[i] = timestamp[i].replace(year=start_time.year, month=start_time.month, day=start_time.day)\n",
    "            key.append(i)\n",
    "    if key[-1] != len(sensor_data_list)-1:\n",
    "        key.append(len(sensor_data_list)-1)\n",
    "\n",
    "\n",
    "    # 生成每一行的时间\n",
    "    # 针对末尾数据，默认 time_addition 为本次数据采集的平均间隔\n",
    "    mean_time_addition = (timestamp[key[-2]] - timestamp[0]) / (key[-2] - key[0])\n",
    "    for i in range(len(key)-1):\n",
    "        if (i==len(key)-2):\n",
    "            time_addition = mean_time_addition\n",
    "            for idx, j in enumerate(range(key[-2]+1, key[-1]+1)):\n",
    "                if j in key:\n",
    "                    continue\n",
    "                timestamp[j] = timestamp[key[-2]] + time_addition * (idx+1)\n",
    "            break\n",
    "\n",
    "        else:\n",
    "            time_interval = timestamp[key[i+1]] - timestamp[key[i]]\n",
    "            index_interval = key[i+1] - key[i]\n",
    "            time_addition = time_interval / index_interval\n",
    "            for idx, j in enumerate(range(key[i]+1, key[i+1])):\n",
    "                if j in key:\n",
    "                    continue\n",
    "                timestamp[j] = timestamp[key[i]] + time_addition * (idx+1)\n",
    "\n",
    "    timestamp = dict(sorted(timestamp.items()))\n",
    "    pair = [[timestamp[i-1], timestamp[i]] for i in range(1, len(timestamp))]\n",
    "    \n",
    "    # 提取传感器数据到列表\n",
    "    for i in range(len(sensor_data_list)):\n",
    "        s = sensor_data_list[i][0]\n",
    "        a = re.sub(u\"\\\\(.*?\\\\)|\\\\{.*?}|\\\\[.*?]\", \"\", s)\n",
    "        # 去除字符串两端空格\n",
    "        sensor_str = a.split(',')[:-1]\n",
    "        sensor_str = [float(i.strip()) for i in sensor_str]\n",
    "        sensor_data_list[i] = sensor_str\n",
    "        \n",
    "    return sensor_data_list, pair"
   ]
  },
  {
   "cell_type": "markdown",
   "id": "8eb2d016-b5df-4b6b-a8f9-b9775dae82ed",
   "metadata": {},
   "source": [
    "### optical_data 写入时间戳"
   ]
  },
  {
   "cell_type": "code",
   "execution_count": 4,
   "id": "07356a9f-44a4-48bd-8ba9-63a6b5ba1ffd",
   "metadata": {},
   "outputs": [],
   "source": [
    "def optical_data_processing(optical_data, sensor_data_list, pair, is_save=False):\n",
    "    num_sample = optical_data.shape[0]\n",
    "    start_time = get_start_time(optical_data)\n",
    "    optical_data.drop([0], inplace=True)\n",
    "    optical_data.dropna(inplace=True)\n",
    "    optical_data.reset_index(drop=True, inplace=True)\n",
    "    print(f'清洗数据：({optical_data.shape[0]}/{num_sample})')\n",
    "\n",
    "    for i in tqdm(range(1, optical_data.shape[0])):\n",
    "        row_time = optical_data.loc[i, 'Time']\n",
    "        row_time = timedelta(seconds=row_time) + start_time\n",
    "        # 写入 optical_data 时间戳\n",
    "        optical_data.loc[i, 'Time'] = datetime.strftime(row_time, '%Y-%m-%d %H:%M:%S.%f')\n",
    "        # 写入角度数据\n",
    "        angle_result = angle_cal_frame(optical_data, i-1)\n",
    "        optical_data.loc[i, 'AA_SN_X'] = angle_result['AA_SN_X'].to_numpy()[0]\n",
    "        optical_data.loc[i, 'AA_SN_Y'] = angle_result['AA_SN_Y'].to_numpy()[0]\n",
    "        optical_data.loc[i, 'AA_SN_Z'] = angle_result['AA_SN_Z'].to_numpy()[0]\n",
    "        optical_data.loc[i, 'GH_AA_X'] = angle_result['GH_AA_X'].to_numpy()[0]\n",
    "        optical_data.loc[i, 'GH_AA_Y'] = angle_result['GH_AA_Y'].to_numpy()[0]\n",
    "        optical_data.loc[i, 'GH_AA_Z'] = angle_result['GH_AA_Z'].to_numpy()[0]\n",
    "        optical_data.loc[i, 'GH_SN_X'] = angle_result['GH_SN_X'].to_numpy()[0]\n",
    "        optical_data.loc[i, 'GH_SN_Y'] = angle_result['GH_SN_Y'].to_numpy()[0]\n",
    "        optical_data.loc[i, 'GH_SN_Z'] = angle_result['GH_SN_Z'].to_numpy()[0]\n",
    "        \n",
    "        for idx, p in enumerate(pair):\n",
    "            is_in_period = time_in_period(p[0], p[1], row_time)\n",
    "            if is_in_period:\n",
    "                # 写入 sensor_data 时间戳\n",
    "                optical_data.loc[i, 'sensor_0'] = sensor_data_list[idx][0]\n",
    "                optical_data.loc[i, 'sensor_1'] = sensor_data_list[idx][1]\n",
    "                optical_data.loc[i, 'sensor_2'] = sensor_data_list[idx][2]\n",
    "                optical_data.loc[i, 'sensor_3'] = sensor_data_list[idx][3]\n",
    "                optical_data.loc[i, 'sensor_4'] = sensor_data_list[idx][4]\n",
    "                break\n",
    "\n",
    "    if is_save:\n",
    "        save_path = optical_csv_path.replace('learning', 'processing')\n",
    "        optical_data.to_csv(save_path)\n",
    "        print(f'处理结束，保存路径:{save_path}')\n",
    "        \n",
    "    return optical_data"
   ]
  },
  {
   "cell_type": "markdown",
   "id": "f170d2c6-4d98-4d4f-b2be-56b909ac5a0b",
   "metadata": {},
   "source": [
    "## Main"
   ]
  },
  {
   "cell_type": "code",
   "execution_count": 8,
   "id": "39d86659-3c12-458a-a036-0b678cef7692",
   "metadata": {},
   "outputs": [
    {
     "name": "stderr",
     "output_type": "stream",
     "text": [
      "  1%|          | 5/401 [00:00<00:08, 48.42it/s]"
     ]
    },
    {
     "name": "stdout",
     "output_type": "stream",
     "text": [
      "正在处理 ./data/learning/Waizhan_s.csv & ./data/learning/Waizhan.csv\n",
      "====================\n",
      "清洗数据：(402/3750)\n"
     ]
    },
    {
     "name": "stderr",
     "output_type": "stream",
     "text": [
      "100%|██████████| 401/401 [00:07<00:00, 51.73it/s]\n",
      "  0%|          | 5/2253 [00:00<00:47, 47.68it/s]"
     ]
    },
    {
     "name": "stdout",
     "output_type": "stream",
     "text": [
      "处理结束，保存路径:./data/processing/Waizhan.csv\n",
      "正在处理 ./data/learning/WaizhanElevation_s.csv & ./data/learning/WaizhanElevation.csv\n",
      "====================\n",
      "清洗数据：(2254/4342)\n"
     ]
    },
    {
     "name": "stderr",
     "output_type": "stream",
     "text": [
      "100%|██████████| 2253/2253 [00:40<00:00, 55.57it/s]\n",
      "  1%|          | 6/596 [00:00<00:10, 56.72it/s]"
     ]
    },
    {
     "name": "stdout",
     "output_type": "stream",
     "text": [
      "处理结束，保存路径:./data/processing/WaizhanElevation.csv\n",
      "正在处理 ./data/learning/WaizhanElevationForward_s.csv & ./data/learning/WaizhanElevationForward.csv\n",
      "====================\n",
      "清洗数据：(597/4323)\n"
     ]
    },
    {
     "name": "stderr",
     "output_type": "stream",
     "text": [
      "100%|██████████| 596/596 [00:10<00:00, 56.08it/s]\n",
      "  0%|          | 6/3710 [00:00<01:07, 54.66it/s]"
     ]
    },
    {
     "name": "stdout",
     "output_type": "stream",
     "text": [
      "处理结束，保存路径:./data/processing/WaizhanElevationForward.csv\n",
      "正在处理 ./data/learning/InitialData_s.csv & ./data/learning/InitialData.csv\n",
      "====================\n",
      "清洗数据：(3711/3713)\n"
     ]
    },
    {
     "name": "stderr",
     "output_type": "stream",
     "text": [
      "100%|██████████| 3710/3710 [01:05<00:00, 56.91it/s]\n",
      "  1%|          | 6/966 [00:00<00:16, 59.46it/s]"
     ]
    },
    {
     "name": "stdout",
     "output_type": "stream",
     "text": [
      "处理结束，保存路径:./data/processing/InitialData.csv\n",
      "正在处理 ./data/learning/Forward_s.csv & ./data/learning/Forward.csv\n",
      "====================\n",
      "清洗数据：(967/3713)\n"
     ]
    },
    {
     "name": "stderr",
     "output_type": "stream",
     "text": [
      "100%|██████████| 966/966 [00:16<00:00, 57.62it/s]\n",
      "  0%|          | 6/2018 [00:00<00:36, 55.40it/s]"
     ]
    },
    {
     "name": "stdout",
     "output_type": "stream",
     "text": [
      "处理结束，保存路径:./data/processing/Forward.csv\n",
      "正在处理 ./data/learning/Depression_s.csv & ./data/learning/Depression.csv\n",
      "====================\n",
      "清洗数据：(2019/3720)\n"
     ]
    },
    {
     "name": "stderr",
     "output_type": "stream",
     "text": [
      "100%|██████████| 2018/2018 [00:36<00:00, 54.98it/s]\n",
      "  0%|          | 6/3706 [00:00<01:11, 51.46it/s]"
     ]
    },
    {
     "name": "stdout",
     "output_type": "stream",
     "text": [
      "处理结束，保存路径:./data/processing/Depression.csv\n",
      "正在处理 ./data/learning/Backward_s.csv & ./data/learning/Backward.csv\n",
      "====================\n",
      "清洗数据：(3707/3737)\n"
     ]
    },
    {
     "name": "stderr",
     "output_type": "stream",
     "text": [
      "100%|██████████| 3706/3706 [01:11<00:00, 52.02it/s]\n",
      "  0%|          | 6/3739 [00:00<01:04, 57.85it/s]"
     ]
    },
    {
     "name": "stdout",
     "output_type": "stream",
     "text": [
      "处理结束，保存路径:./data/processing/Backward.csv\n",
      "正在处理 ./data/learning/HoushenBackward_s.csv & ./data/learning/HoushenBackward.csv\n",
      "====================\n",
      "清洗数据：(3740/3741)\n"
     ]
    },
    {
     "name": "stderr",
     "output_type": "stream",
     "text": [
      "100%|██████████| 3739/3739 [01:13<00:00, 51.17it/s]\n",
      "  3%|▎         | 6/206 [00:00<00:03, 51.23it/s]"
     ]
    },
    {
     "name": "stdout",
     "output_type": "stream",
     "text": [
      "处理结束，保存路径:./data/processing/HoushenBackward.csv\n",
      "正在处理 ./data/learning/Houshen_s.csv & ./data/learning/Houshen.csv\n",
      "====================\n",
      "清洗数据：(207/3748)\n"
     ]
    },
    {
     "name": "stderr",
     "output_type": "stream",
     "text": [
      "100%|██████████| 206/206 [00:03<00:00, 52.72it/s]\n",
      "  0%|          | 4/4386 [00:00<01:50, 39.80it/s]"
     ]
    },
    {
     "name": "stdout",
     "output_type": "stream",
     "text": [
      "处理结束，保存路径:./data/processing/Houshen.csv\n",
      "正在处理 ./data/learning/Qianqu_s.csv & ./data/learning/Qianqu.csv\n",
      "====================\n",
      "清洗数据：(4387/5382)\n"
     ]
    },
    {
     "name": "stderr",
     "output_type": "stream",
     "text": [
      "100%|██████████| 4386/4386 [01:18<00:00, 56.04it/s]\n",
      "  0%|          | 6/3609 [00:00<01:00, 60.00it/s]"
     ]
    },
    {
     "name": "stdout",
     "output_type": "stream",
     "text": [
      "处理结束，保存路径:./data/processing/Qianqu.csv\n",
      "正在处理 ./data/learning/Elevation_s.csv & ./data/learning/Elevation.csv\n",
      "====================\n",
      "清洗数据：(3610/3746)\n"
     ]
    },
    {
     "name": "stderr",
     "output_type": "stream",
     "text": [
      "100%|██████████| 3609/3609 [01:01<00:00, 59.04it/s]\n",
      "  0%|          | 6/3762 [00:00<01:02, 59.69it/s]"
     ]
    },
    {
     "name": "stdout",
     "output_type": "stream",
     "text": [
      "处理结束，保存路径:./data/processing/Elevation.csv\n",
      "正在处理 ./data/learning/QianquForward_s.csv & ./data/learning/QianquForward.csv\n",
      "====================\n",
      "清洗数据：(3763/3803)\n"
     ]
    },
    {
     "name": "stderr",
     "output_type": "stream",
     "text": [
      "100%|██████████| 3762/3762 [01:03<00:00, 59.71it/s]\n"
     ]
    },
    {
     "name": "stdout",
     "output_type": "stream",
     "text": [
      "处理结束，保存路径:./data/processing/QianquForward.csv\n"
     ]
    }
   ],
   "source": [
    "sensor_csv_paths = glob.glob('./data/learning/*_s*')\n",
    "for sensor_csv_path in sensor_csv_paths:\n",
    "    optical_csv_path = re.sub('[_][s]','', sensor_csv_path)\n",
    "    print(f'正在处理 {sensor_csv_path} & {optical_csv_path}')\n",
    "    print('='*20)\n",
    "    sensor_data = pd.read_csv(sensor_csv_path, header=None)\n",
    "    optical_data = pd.read_csv(optical_csv_path)\n",
    "    start_time = get_start_time(optical_data)\n",
    "    sensor_data_list, pair = sensor_data_processing(sensor_data)\n",
    "    optical_data = optical_data_processing(optical_data, sensor_data_list, pair, True)"
   ]
  },
  {
   "cell_type": "code",
   "execution_count": null,
   "id": "8f10b318-246a-4fae-96bc-280bc93f4fac",
   "metadata": {},
   "outputs": [],
   "source": []
  }
 ],
 "metadata": {
  "kernelspec": {
   "display_name": "Python 3",
   "language": "python",
   "name": "python3"
  },
  "language_info": {
   "codemirror_mode": {
    "name": "ipython",
    "version": 3
   },
   "file_extension": ".py",
   "mimetype": "text/x-python",
   "name": "python",
   "nbconvert_exporter": "python",
   "pygments_lexer": "ipython3",
   "version": "3.8.3"
  }
 },
 "nbformat": 4,
 "nbformat_minor": 5
}
